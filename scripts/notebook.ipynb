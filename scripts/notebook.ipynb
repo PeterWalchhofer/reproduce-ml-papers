{
 "cells": [
  {
   "cell_type": "code",
   "execution_count": 2,
   "metadata": {
    "pycharm": {
     "name": "#%%\n"
    }
   },
   "outputs": [],
   "source": [
    "import os\n",
    "from datetime import datetime\n",
    "import yaml\n",
    "from IPython.display import display, Markdown\n",
    "from git import Repo as RepoLoader  # gitpython\n",
    "\n",
    "from tqdm import tqdm\n",
    "\n",
    "import papers_analyser.github as github\n",
    "import papers_analyser.db as db\n",
    "from papers_analyser.paper import load_papers,download_json_files\n",
    "import pandas as pd\n",
    "\n",
    "%load_ext autoreload\n",
    "%autoreload 2"
   ]
  },
  {
   "cell_type": "code",
   "source": [
    "project_dir = os.path.abspath(\"..\")"
   ],
   "metadata": {
    "collapsed": false,
    "pycharm": {
     "name": "#%%\n"
    }
   },
   "execution_count": 3,
   "outputs": []
  },
  {
   "cell_type": "markdown",
   "source": [
    "## Connect to DB"
   ],
   "metadata": {
    "collapsed": false,
    "pycharm": {
     "name": "#%% md\n"
    }
   }
  },
  {
   "cell_type": "code",
   "execution_count": 4,
   "outputs": [
    {
     "name": "stdout",
     "output_type": "stream",
     "text": [
      "2.6.0\n"
     ]
    }
   ],
   "source": [
    "connection = db.create_connection( project_dir + \"/data/paper.db\")\n",
    "db.create_table_if_not_exist(connection)"
   ],
   "metadata": {
    "collapsed": false,
    "pycharm": {
     "name": "#%%\n"
    }
   }
  },
  {
   "cell_type": "markdown",
   "source": [
    "## Github API auth-token"
   ],
   "metadata": {
    "collapsed": false
   }
  },
  {
   "cell_type": "code",
   "execution_count": 5,
   "outputs": [
    {
     "name": "stderr",
     "output_type": "stream",
     "text": [
      "C:\\Users\\Peter-NB\\Dev\\reproduce-ml-papers\\papers_analyser\\github.py:15: YAMLLoadWarning: calling yaml.load() without Loader=... is deprecated, as the default Loader is unsafe. Please read https://msg.pyyaml.org/load for full details.\n",
      "  config = yaml.load(open(path, \"r\"))\n"
     ]
    }
   ],
   "source": [
    "auth_token = github.load_auth_token(\"config.yaml\")"
   ],
   "metadata": {
    "collapsed": false,
    "pycharm": {
     "name": "#%%\n"
    }
   }
  },
  {
   "cell_type": "markdown",
   "metadata": {
    "pycharm": {
     "is_executing": false,
     "name": "#%% md\n"
    }
   },
   "source": [
    "# Loading papers"
   ]
  },
  {
   "cell_type": "code",
   "execution_count": 6,
   "outputs": [],
   "source": [
    "json_path = project_dir + \"/data\""
   ],
   "metadata": {
    "collapsed": false,
    "pycharm": {
     "name": "#%%\n"
    }
   }
  },
  {
   "cell_type": "markdown",
   "source": [
    "Download JSON file if you have not done this already."
   ],
   "metadata": {
    "collapsed": false,
    "pycharm": {
     "name": "#%% md\n"
    }
   }
  },
  {
   "cell_type": "code",
   "execution_count": 6,
   "outputs": [],
   "source": [
    "download_json_files(json_path)"
   ],
   "metadata": {
    "collapsed": false,
    "pycharm": {
     "name": "#%%\n",
     "is_executing": false
    }
   }
  },
  {
   "cell_type": "markdown",
   "source": [
    "Load json files and create paper objects that map to repositories."
   ],
   "metadata": {
    "collapsed": false
   }
  },
  {
   "cell_type": "code",
   "source": [
    "since_date = datetime.strptime(\"2019-01-01\", '%Y-%m-%d')\n"
   ],
   "metadata": {
    "collapsed": false,
    "pycharm": {
     "name": "#%%\n"
    }
   },
   "execution_count": 7,
   "outputs": []
  },
  {
   "cell_type": "code",
   "execution_count": 8,
   "outputs": [],
   "source": [
    "papers= load_papers(project_dir + \"/data\",  since_date)\n"
   ],
   "metadata": {
    "collapsed": false,
    "pycharm": {
     "name": "#%%\n"
    }
   }
  },
  {
   "cell_type": "code",
   "source": [
    "papers_persisted = db.get_papers(connection)"
   ],
   "metadata": {
    "collapsed": false,
    "pycharm": {
     "name": "#%%\n"
    }
   },
   "execution_count": 13,
   "outputs": []
  },
  {
   "cell_type": "code",
   "execution_count": 14,
   "outputs": [],
   "source": [
    "papers_to_scrape = [paper for paper in papers if paper.url not in papers_persisted]"
   ],
   "metadata": {
    "collapsed": false,
    "pycharm": {
     "name": "#%%\n"
    }
   }
  },
  {
   "cell_type": "markdown",
   "source": [
    "Scrape the metadata, file-names and the whole readme-file from the github-api for each repo.\n",
    "If you have a lot of repos to scrape, you have to rerunt his cell multiple times."
   ],
   "metadata": {
    "collapsed": false
   }
  },
  {
   "cell_type": "code",
   "source": [
    "for paper in tqdm(papers_to_scrape[30:]):\n",
    "    for repo in paper.repos:\n",
    "        if True:#not repo.scraped:\n",
    "            repo.scrape(auth_token)"
   ],
   "metadata": {
    "collapsed": false,
    "pycharm": {
     "name": "#%%\n"
    }
   },
   "execution_count": 22,
   "outputs": [
    {
     "name": "stderr",
     "output_type": "stream",
     "text": [
      "100%|██████████| 62/62 [07:09<00:00,  6.92s/it]\n"
     ]
    },
    {
     "name": "stdout",
     "output_type": "stream",
     "text": [
      "404 Client Error: Not Found for url: https://api.github.com/repos/deepmipt/DeepPavlov/blob/master/deeppavlov/configs/classifiers/rusentiment_bert.json\n",
      "404 Client Error: Not Found for url: https://api.github.com/repos/deepmipt/DeepPavlov/blob/master/deeppavlov/configs/classifiers/rusentiment_convers_bert.json\n",
      "404 Client Error: Not Found for url: https://api.github.com/repos/deepmipt/DeepPavlov/blob/master/deeppavlov/configs/classifiers/rusentiment_elmo_twitter_cnn.json\n",
      "404 Client Error: Not Found for url: https://api.github.com/repos/NeurEXT/NEXT-learning-to-plan/blob/master/main.ipynb\n",
      "404 Client Error: Not Found for url: https://api.github.com/repos/PKU-AI-Edge/DGN/\n",
      "404 Client Error: Not Found for url: https://api.github.com/repositories/258255951/blob/master/examples/iMAML.py\n",
      "404 Client Error: Not Found for url: https://api.github.com/repos/yanmeizhao/MyMmdetection/branches/master\n",
      "404 Client Error: Not Found for url: https://api.github.com/repos/Tony607/mmdetection/branches/master\n",
      "404 Client Error: Not Found for url: https://api.github.com/repos/ChrisLee63/mmdet-ps\n",
      "404 Client Error: Not Found for url: https://api.github.com/repositories/217651010/contents//SrcCode_muSSP_FollowMe_SSP\n",
      "404 Client Error: Not Found for url: https://api.github.com/repos/snap-stanford/pretrain-gnns/\n",
      "404 Client Error: Not Found for url: https://api.github.com/repos/XanaduAI/qml/blob/master/demonstrations/tutorial_quantum_natural_gradient.py\n",
      "404 Client Error: Not Found for url: https://api.github.com/repos/tensorflow/addons/blob/master/tensorflow_addons/optimizers/lamb.py\n",
      "404 Client Error: Not Found for url: https://api.github.com/repos/lizi-git/ReDST\n",
      "404 Client Error: Not Found for url: https://api.github.com/repositories/211499525/branches/master\n",
      "404 Client Error: Not Found for url: https://api.github.com/repositories/211499525/readme\n",
      "404 Client Error: Not Found for url: https://api.github.com/repos/deepmipt/DeepPavlov/blob/0.9.1/deeppavlov/configs/sentence_segmentation/sentseg_dailydialog.json\n",
      "404 Client Error: Not Found for url: https://api.github.com/repos/hangg7/deformable-kernels/\n",
      "404 Client Error: Not Found for url: https://api.github.com/repos/sebastianpinedaar/machine-learning-codes/blob/master/metric-learning/SoftTripleLoss.ipynb\n",
      "404 Client Error: Not Found for url: https://api.github.com/repositories/218481618/blob/master/package/feature.py\n",
      "404 Client Error: Not Found for url: https://api.github.com/repos/nathandelara/Spectral-Embedding-of-Regularized-Block-Models/\n",
      "404 Client Error: Not Found for url: https://api.github.com/repos/todd-cook/ML-You-Can-Use/blob/master/probablistic_language_modeling/automatic_grammatical_error_corrections_using_BERT_GPT2.ipynb\n",
      "404 Client Error: Not Found for url: https://api.github.com/repos/pytorch/fairseq/blob/master/fairseq/models/wav2vec.py\n"
     ]
    }
   ]
  },
  {
   "cell_type": "markdown",
   "source": [
    "## Take a look on README files"
   ],
   "metadata": {
    "collapsed": false,
    "pycharm": {
     "name": "#%% md\n"
    }
   }
  },
  {
   "cell_type": "code",
   "execution_count": 22,
   "metadata": {
    "pycharm": {
     "name": "#%%\n"
    }
   },
   "outputs": [
    {
     "ename": "NameError",
     "evalue": "name 'papers' is not defined",
     "output_type": "error",
     "traceback": [
      "\u001B[1;31m---------------------------------------------------------------------------\u001B[0m",
      "\u001B[1;31mNameError\u001B[0m                                 Traceback (most recent call last)",
      "\u001B[1;32m<ipython-input-22-cb3b9d0306d7>\u001B[0m in \u001B[0;36m<module>\u001B[1;34m\u001B[0m\n\u001B[1;32m----> 1\u001B[1;33m \u001B[0mreadmes\u001B[0m \u001B[1;33m=\u001B[0m \u001B[1;33m[\u001B[0m\u001B[0mpaper\u001B[0m\u001B[1;33m.\u001B[0m\u001B[0mrepo\u001B[0m\u001B[1;33m[\u001B[0m\u001B[1;36m0\u001B[0m\u001B[1;33m]\u001B[0m\u001B[1;33m.\u001B[0m\u001B[0mreadme\u001B[0m \u001B[1;32mfor\u001B[0m \u001B[0mpaper\u001B[0m \u001B[1;32min\u001B[0m \u001B[0mpapers\u001B[0m\u001B[1;33m]\u001B[0m\u001B[1;33m\u001B[0m\u001B[1;33m\u001B[0m\u001B[0m\n\u001B[0m\u001B[0;32m      2\u001B[0m \u001B[1;33m\u001B[0m\u001B[0m\n",
      "\u001B[1;31mNameError\u001B[0m: name 'papers' is not defined"
     ]
    }
   ],
   "source": [
    "readmes = [paper.repo[0].readme for paper in papers]"
   ]
  },
  {
   "cell_type": "code",
   "execution_count": 36,
   "metadata": {
    "pycharm": {
     "name": "#%%\n"
    }
   },
   "outputs": [
    {
     "ename": "NameError",
     "evalue": "name 'readmes' is not defined",
     "output_type": "error",
     "traceback": [
      "\u001B[1;31m---------------------------------------------------------------------------\u001B[0m",
      "\u001B[1;31mNameError\u001B[0m                                 Traceback (most recent call last)",
      "\u001B[1;32m<ipython-input-36-a7dae513ee5d>\u001B[0m in \u001B[0;36m<module>\u001B[1;34m\u001B[0m\n\u001B[1;32m----> 1\u001B[1;33m \u001B[0mdisplay\u001B[0m\u001B[1;33m(\u001B[0m\u001B[0mMarkdown\u001B[0m\u001B[1;33m(\u001B[0m\u001B[0mreadmes\u001B[0m\u001B[1;33m[\u001B[0m\u001B[1;36m4\u001B[0m\u001B[1;33m]\u001B[0m\u001B[1;33m)\u001B[0m\u001B[1;33m)\u001B[0m\u001B[1;33m\u001B[0m\u001B[1;33m\u001B[0m\u001B[0m\n\u001B[0m\u001B[0;32m      2\u001B[0m \u001B[1;33m\u001B[0m\u001B[0m\n",
      "\u001B[1;31mNameError\u001B[0m: name 'readmes' is not defined"
     ]
    }
   ],
   "source": [
    "display(Markdown(readmes[4]))"
   ]
  },
  {
   "cell_type": "markdown",
   "source": [
    "# Save to database"
   ],
   "metadata": {
    "collapsed": false
   }
  },
  {
   "cell_type": "code",
   "execution_count": 23,
   "outputs": [],
   "source": [
    "i=1\n",
    "j=1\n",
    "unscraped = list()\n",
    "for paper in papers_to_scrape:\n",
    "    if paper.repos_scraped():\n",
    "        db.insert_paper(connection,paper)\n",
    "    else:\n",
    "        unscraped.append(paper)\n",
    "\n",
    "connection.commit()"
   ],
   "metadata": {
    "collapsed": false,
    "pycharm": {
     "name": "#%%\n"
    }
   }
  },
  {
   "cell_type": "markdown",
   "source": [
    "The number of paprs containing a repo that was not able to scrape is:"
   ],
   "metadata": {
    "collapsed": false,
    "pycharm": {
     "name": "#%% md\n"
    }
   }
  },
  {
   "cell_type": "code",
   "execution_count": 25,
   "outputs": [
    {
     "data": {
      "text/plain": "24"
     },
     "execution_count": 25,
     "metadata": {},
     "output_type": "execute_result"
    }
   ],
   "source": [
    "len(unscraped)\n"
   ],
   "metadata": {
    "collapsed": false,
    "pycharm": {
     "name": "#%%\n"
    }
   }
  },
  {
   "cell_type": "code",
   "execution_count": null,
   "outputs": [],
   "source": [
    "len(papers_to_scrape)"
   ],
   "metadata": {
    "collapsed": false,
    "pycharm": {
     "name": "#%%\n",
     "is_executing": true
    }
   }
  },
  {
   "cell_type": "code",
   "execution_count": 26,
   "outputs": [],
   "source": [
    "connection.close()"
   ],
   "metadata": {
    "collapsed": false,
    "pycharm": {
     "name": "#%%\n"
    }
   }
  },
  {
   "cell_type": "markdown",
   "metadata": {
    "pycharm": {
     "name": "#%% md\n"
    }
   },
   "source": [
    "## Clone repo"
   ]
  },
  {
   "cell_type": "code",
   "execution_count": 36,
   "metadata": {
    "pycharm": {
     "is_executing": false,
     "name": "#%%\n"
    }
   },
   "outputs": [],
   "source": [
    "dir = driverPath = project_dir + \"/repos\"\n",
    "for paper in papers:\n",
    "    paper_path = dir + \"/\" + paper.title.replace( \":\",\"\")\n",
    "    if not os.path.exists(paper_path):\n",
    "        os.mkdir(paper_path)\n",
    "        \n",
    "    for repo in paper.repo:\n",
    "        repo_path = paper_path+ repo.repo_name.replace(\"/\",\"_\")\n",
    "        \n",
    "        if not os.path.exists(repo_path):\n",
    "            os.mkdir(repo_path)\n",
    "            \n",
    "        RepoLoader.clone_from(repo.clone_url,repo_path)\n",
    "    \n",
    "\n"
   ]
  }
 ],
 "metadata": {
  "kernelspec": {
   "name": "python3",
   "language": "python",
   "display_name": "Python 3"
  },
  "language_info": {
   "codemirror_mode": {
    "name": "ipython",
    "version": 3
   },
   "file_extension": ".py",
   "mimetype": "text/x-python",
   "name": "python",
   "nbconvert_exporter": "python",
   "pygments_lexer": "ipython3",
   "version": "3.7.3"
  }
 },
 "nbformat": 4,
 "nbformat_minor": 1
}