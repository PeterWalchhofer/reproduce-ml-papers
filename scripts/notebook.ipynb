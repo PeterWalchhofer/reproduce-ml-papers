{
 "cells": [
  {
   "cell_type": "code",
   "execution_count": 54,
   "metadata": {
    "pycharm": {
     "name": "#%%\n"
    }
   },
   "outputs": [
    {
     "name": "stdout",
     "output_type": "stream",
     "text": [
      "The autoreload extension is already loaded. To reload it, use:\n",
      "  %reload_ext autoreload\n"
     ]
    }
   ],
   "source": [
    "import json\n",
    "import os\n",
    "import platform\n",
    "from datetime import datetime\n",
    "import time\n",
    "from datetime import datetime\n",
    "\n",
    "import pandas as pd\n",
    "from tqdm import tqdm\n",
    "import yaml\n",
    "from IPython.display import display, Markdown\n",
    "from git import Repo as RepoLoader  # gitpython\n",
    "from selenium.webdriver import Chrome\n",
    "\n",
    "import papers_analyser.db as db\n",
    "from papers_analyser import scrape_papers_with_code as navigator\n",
    "from papers_analyser.paper import Paper, get_repo, scrape_paper, load_papers, __load_json_files, __dict_to_paper\n",
    "\n",
    "%load_ext autoreload\n",
    "%autoreload 2"
   ]
  },
  {
   "cell_type": "code",
   "source": [
    "project_dir = os.path.abspath(\"..\")"
   ],
   "metadata": {
    "collapsed": false,
    "pycharm": {
     "name": "#%%\n"
    }
   },
   "execution_count": 3,
   "outputs": []
  },
  {
   "cell_type": "markdown",
   "source": [
    "## Connect to DB"
   ],
   "metadata": {
    "collapsed": false,
    "pycharm": {
     "name": "#%% md\n"
    }
   }
  },
  {
   "cell_type": "code",
   "execution_count": 86,
   "outputs": [
    {
     "name": "stdout",
     "output_type": "stream",
     "text": [
      "2.6.0\n"
     ]
    }
   ],
   "source": [
    "connection = db.create_connection( project_dir + \"/data/paper.db\")\n",
    "db.create_table_if_not_exist(connection)"
   ],
   "metadata": {
    "collapsed": false,
    "pycharm": {
     "name": "#%%\n"
    }
   }
  },
  {
   "cell_type": "markdown",
   "source": [
    "## Github API auth-token"
   ],
   "metadata": {
    "collapsed": false
   }
  },
  {
   "cell_type": "code",
   "execution_count": 66,
   "outputs": [
    {
     "name": "stderr",
     "output_type": "stream",
     "text": [
      "e:\\programme\\reproduce-ml-papers\\venv\\lib\\site-packages\\ipykernel_launcher.py:1: YAMLLoadWarning: calling yaml.load() without Loader=... is deprecated, as the default Loader is unsafe. Please read https://msg.pyyaml.org/load for full details.\n",
      "  \"\"\"Entry point for launching an IPython kernel.\n"
     ]
    }
   ],
   "source": [
    "auth_token = yaml.load(open(\"config.yaml\", \"r\"))[\"auth_token\"]"
   ],
   "metadata": {
    "collapsed": false,
    "pycharm": {
     "name": "#%%\n"
    }
   }
  },
  {
   "cell_type": "markdown",
   "metadata": {
    "pycharm": {
     "is_executing": false,
     "name": "#%% md\n"
    }
   },
   "source": [
    "# Scrape papers\n",
    "Scraping papers on Github and Paperswithcode.com. Only query those, that have not been inserted into the db."
   ]
  },
  {
   "cell_type": "markdown",
   "source": [
    "Seperation of `repos` and `papers` because weird behaviour of paperswithcode.com: Sometimes mixing on-site links with github links, which makes absolutely no sense.\n",
    "Get auth-token from your github profile under personal tokens."
   ],
   "metadata": {
    "collapsed": false,
    "pycharm": {
     "name": "#%% md\n"
    }
   }
  },
  {
   "cell_type": "code",
   "execution_count": 85,
   "outputs": [],
   "source": [
    "json_path = project_dir + \"/data\"\n",
    "since_date = datetime.strptime(\"2020-01-01\", '%Y-%m-%d')\n"
   ],
   "metadata": {
    "collapsed": false,
    "pycharm": {
     "name": "#%%\n"
    }
   }
  },
  {
   "cell_type": "code",
   "execution_count": 87,
   "outputs": [],
   "source": [
    "papers= load_papers(project_dir + \"/data\",  datetime.strptime(\"2020-01-01\", '%Y-%m-%d'))\n"
   ],
   "metadata": {
    "collapsed": false,
    "pycharm": {
     "name": "#%%\n"
    }
   }
  },
  {
   "cell_type": "code",
   "execution_count": 89,
   "outputs": [],
   "source": [
    "for paper in tqdm(papers):\n",
    "    for repo in paper.repos:\n",
    "        if not repo.scraped:\n",
    "            repo.scrape(auth_token)"
   ],
   "metadata": {
    "collapsed": false,
    "pycharm": {
     "name": "#%%\n"
    }
   }
  },
  {
   "cell_type": "markdown",
   "source": [
    "## Take a look on README files"
   ],
   "metadata": {
    "collapsed": false,
    "pycharm": {
     "name": "#%% md\n"
    }
   }
  },
  {
   "cell_type": "code",
   "execution_count": 22,
   "metadata": {
    "pycharm": {
     "name": "#%%\n"
    }
   },
   "outputs": [
    {
     "ename": "NameError",
     "evalue": "name 'papers' is not defined",
     "output_type": "error",
     "traceback": [
      "\u001B[1;31m---------------------------------------------------------------------------\u001B[0m",
      "\u001B[1;31mNameError\u001B[0m                                 Traceback (most recent call last)",
      "\u001B[1;32m<ipython-input-22-cb3b9d0306d7>\u001B[0m in \u001B[0;36m<module>\u001B[1;34m\u001B[0m\n\u001B[1;32m----> 1\u001B[1;33m \u001B[0mreadmes\u001B[0m \u001B[1;33m=\u001B[0m \u001B[1;33m[\u001B[0m\u001B[0mpaper\u001B[0m\u001B[1;33m.\u001B[0m\u001B[0mrepo\u001B[0m\u001B[1;33m[\u001B[0m\u001B[1;36m0\u001B[0m\u001B[1;33m]\u001B[0m\u001B[1;33m.\u001B[0m\u001B[0mreadme\u001B[0m \u001B[1;32mfor\u001B[0m \u001B[0mpaper\u001B[0m \u001B[1;32min\u001B[0m \u001B[0mpapers\u001B[0m\u001B[1;33m]\u001B[0m\u001B[1;33m\u001B[0m\u001B[1;33m\u001B[0m\u001B[0m\n\u001B[0m\u001B[0;32m      2\u001B[0m \u001B[1;33m\u001B[0m\u001B[0m\n",
      "\u001B[1;31mNameError\u001B[0m: name 'papers' is not defined"
     ]
    }
   ],
   "source": [
    "readmes = [paper.repo[0].readme for paper in papers]"
   ]
  },
  {
   "cell_type": "code",
   "execution_count": null,
   "metadata": {
    "pycharm": {
     "name": "#%%\n"
    }
   },
   "outputs": [],
   "source": [
    "display(Markdown(readmes[4]))"
   ]
  },
  {
   "cell_type": "markdown",
   "source": [
    "# Save to database"
   ],
   "metadata": {
    "collapsed": false
   }
  },
  {
   "cell_type": "code",
   "execution_count": 90,
   "outputs": [],
   "source": [
    "for paper in papers:\n",
    "    if paper.repos_scraped():\n",
    "        db.insert_paper(connection,paper)\n",
    "\n",
    "connection.commit()"
   ],
   "metadata": {
    "collapsed": false,
    "pycharm": {
     "name": "#%%\n"
    }
   }
  },
  {
   "cell_type": "code",
   "execution_count": 28,
   "outputs": [],
   "source": [
    "connection.close()"
   ],
   "metadata": {
    "collapsed": false,
    "pycharm": {
     "name": "#%%\n"
    }
   }
  },
  {
   "cell_type": "markdown",
   "metadata": {
    "pycharm": {
     "name": "#%% md\n"
    }
   },
   "source": [
    "## Clone repo"
   ]
  },
  {
   "cell_type": "code",
   "execution_count": 36,
   "metadata": {
    "pycharm": {
     "is_executing": false,
     "name": "#%%\n"
    }
   },
   "outputs": [],
   "source": [
    "dir = driverPath = project_dir + \"/repos\"\n",
    "for paper in papers:\n",
    "    paper_path = dir + \"/\" + paper.title.replace( \":\",\"\")\n",
    "    if not os.path.exists(paper_path):\n",
    "        os.mkdir(paper_path)\n",
    "        \n",
    "    for repo in paper.repo:\n",
    "        repo_path = paper_path+ repo.repo_name.replace(\"/\",\"_\")\n",
    "        \n",
    "        if not os.path.exists(repo_path):\n",
    "            os.mkdir(repo_path)\n",
    "            \n",
    "        RepoLoader.clone_from(repo.clone_url,repo_path)\n",
    "    \n",
    "\n"
   ]
  }
 ],
 "metadata": {
  "kernelspec": {
   "display_name": "Python 3",
   "language": "python",
   "name": "python3"
  },
  "language_info": {
   "codemirror_mode": {
    "name": "ipython",
    "version": 3
   },
   "file_extension": ".py",
   "mimetype": "text/x-python",
   "name": "python",
   "nbconvert_exporter": "python",
   "pygments_lexer": "ipython3",
   "version": "3.7.3"
  }
 },
 "nbformat": 4,
 "nbformat_minor": 1
}